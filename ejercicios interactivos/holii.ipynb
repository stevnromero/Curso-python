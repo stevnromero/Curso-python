{
 "cells": [
  {
   "cell_type": "code",
   "execution_count": null,
   "id": "4b38bffb",
   "metadata": {},
   "outputs": [
    {
     "name": "stdout",
     "output_type": "stream",
     "text": [
      "nohtyp\n"
     ]
    }
   ],
   "source": [
    "palabra = \"python\"[::-1]\n",
    "print(palabra)"
   ]
  },
  {
   "cell_type": "code",
   "execution_count": null,
   "id": "e514cc7d",
   "metadata": {},
   "outputs": [
    {
     "name": "stdout",
     "output_type": "stream",
     "text": [
      "es primo\n"
     ]
    }
   ],
   "source": [
    "numero = int(input(\"ingresa un numero:\"))\n",
    "lista_numero = [2,3,5,7]\n",
    "\n",
    "if numero in lista_numero:\n",
    "    print(\"es primo\")\n",
    "else:\n",
    "    print(\"no es primo\")"
   ]
  },
  {
   "cell_type": "code",
   "execution_count": null,
   "id": "d70b1159",
   "metadata": {},
   "outputs": [
    {
     "name": "stdout",
     "output_type": "stream",
     "text": [
      "ingresa una palabra: \n",
      "es un consonante\n",
      "o\n",
      "es un consonante\n",
      "a\n",
      "es un consonante\n",
      "es un consonante\n",
      "u\n",
      "es un consonante\n",
      "es un consonante\n",
      "o\n"
     ]
    }
   ],
   "source": [
    "print(\"ingresa una palabra: \")\n",
    "palabra = input()\n",
    "for x in palabra:\n",
    "    if (x == \"a\" or x == \"e\" or x == \"i\" or x == \"o\" or x == \"u\"):\n",
    "        print(x)\n",
    "    else:\n",
    "        print(\"es un consonante\")"
   ]
  },
  {
   "cell_type": "code",
   "execution_count": null,
   "id": "9f339aeb",
   "metadata": {},
   "outputs": [
    {
     "name": "stdout",
     "output_type": "stream",
     "text": [
      "Operación no válida\n"
     ]
    }
   ],
   "source": [
    "try:\n",
    "    num1 = float(input(\"Primer número: \"))\n",
    "    num2 = float(input(\"Segundo número: \"))\n",
    "    operacion = input(\"Operación (+, -, *, /): \")\n",
    "\n",
    "    if operacion == \"+\":\n",
    "        print(\"Resultado:\", num1 + num2)\n",
    "    elif operacion == \"-\":\n",
    "        print(\"Resultado:\", num1 - num2)\n",
    "    elif operacion == \"*\":\n",
    "        print(\"Resultado:\", num1 * num2)\n",
    "    elif operacion == \"/\":\n",
    "        if num2 != 0:\n",
    "            print(\"Resultado:\", num1 / num2)\n",
    "        else:\n",
    "            print(\"Error: División entre cero\")\n",
    "    else:\n",
    "        print(\"Operación no válida\")\n",
    "except ValueError:\n",
    "    print(\"Error: Ingresa números válidos\")\n"
   ]
  },
  {
   "cell_type": "code",
   "execution_count": null,
   "id": "a7819109",
   "metadata": {},
   "outputs": [
    {
     "name": "stdout",
     "output_type": "stream",
     "text": [
      "Secuencia de Fibonacci: [0, 1, 1]\n"
     ]
    }
   ],
   "source": [
    "n = int(input(\"¿Cuántos números de Fibonacci quieres ver? \"))\n",
    "a, b = 0, 1\n",
    "fibonacci = []\n",
    "\n",
    "for _ in range(n):\n",
    "    fibonacci.append(a)\n",
    "    a, b = b, a + b\n",
    "\n",
    "print(\"Secuencia de Fibonacci:\", fibonacci)\n"
   ]
  },
  {
   "cell_type": "code",
   "execution_count": null,
   "id": "7b20fbd2",
   "metadata": {},
   "outputs": [
    {
     "name": "stdout",
     "output_type": "stream",
     "text": [
      "5.0\n"
     ]
    }
   ],
   "source": [
    "def operacion(numero):\n",
    "\n",
    "    def suma(num):\n",
    "        return numero * num / 2\n",
    "    print(suma(5))\n",
    "    \n",
    "operacion(2)\n"
   ]
  },
  {
   "cell_type": "code",
   "execution_count": 60,
   "id": "f82aa385",
   "metadata": {},
   "outputs": [
    {
     "name": "stdout",
     "output_type": "stream",
     "text": [
      "[2, 4, 6, 8, 10]\n"
     ]
    }
   ],
   "source": [
    "numeros = [1, 2, 3, 4, 5, 6, 7, 8, 9, 10]\n",
    "pares = []\n",
    "for numero in numeros:\n",
    "    if numero % 2 == 0:\n",
    "        pares.append(numero)\n",
    "print(pares)  # Salida: [2, 4, 6, 8, 10]\n",
    "    "
   ]
  },
  {
   "cell_type": "code",
   "execution_count": 63,
   "id": "e50c527b",
   "metadata": {},
   "outputs": [
    {
     "name": "stdout",
     "output_type": "stream",
     "text": [
      " es impar\n"
     ]
    }
   ],
   "source": [
    "number = 15\n",
    "\n",
    "if number %2 == 0:\n",
    "    print(\"es par\")\n",
    "else:\n",
    "    print(\" es impar\")"
   ]
  },
  {
   "cell_type": "code",
   "execution_count": null,
   "id": "899e6f1c",
   "metadata": {},
   "outputs": [],
   "source": [
    "\n",
    "lista_personajes = [\"spider-man\", \"iron man\", \"hulk\"]\n",
    "nueva = []\n",
    "\n",
    "\n",
    "nueva.append(\"capital america\")\n",
    "nueva.extend(lista_personajes)\n",
    "    \n",
    "for marvel in nueva:\n",
    "    print(f\"los personajes de marvel son: {marvel.upper()}\")\n",
    "    if \"spider-man\" in marvel:\n",
    "        print(\"esta en la nueva lista\")\n",
    "    else:\n",
    "        print(\"no esta\")"
   ]
  },
  {
   "cell_type": "code",
   "execution_count": null,
   "id": "02a547c9",
   "metadata": {},
   "outputs": [],
   "source": [
    "couple = [\"steven\"]\n",
    "couple2 = [\"juanita\"]\n",
    "\n",
    "for pareja in couple:\n",
    "    fusion= []\n",
    "    fusion.append(pareja)\n",
    "    for pareja2 in couple2:\n",
    "        fusion.append(pareja2)\n",
    "        print(fusion)\n",
    "\n",
    "\n",
    "love = tuple(map(lambda amor: len(amor), fusion))\n",
    "print(love)\n"
   ]
  },
  {
   "cell_type": "code",
   "execution_count": null,
   "id": "9006cd58",
   "metadata": {},
   "outputs": [],
   "source": []
  }
 ],
 "metadata": {
  "kernelspec": {
   "display_name": "Python 3",
   "language": "python",
   "name": "python3"
  },
  "language_info": {
   "codemirror_mode": {
    "name": "ipython",
    "version": 3
   },
   "file_extension": ".py",
   "mimetype": "text/x-python",
   "name": "python",
   "nbconvert_exporter": "python",
   "pygments_lexer": "ipython3",
   "version": "3.13.4"
  }
 },
 "nbformat": 4,
 "nbformat_minor": 5
}
